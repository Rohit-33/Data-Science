{
 "cells": [
  {
   "cell_type": "markdown",
   "id": "6546695d",
   "metadata": {},
   "source": [
    "<center><img src = \"https://media.giphy.com/media/XVbrX433vn6rqkexSj/giphy.gif\"></center>"
   ]
  },
  {
   "cell_type": "markdown",
   "id": "9a5b71b7",
   "metadata": {},
   "source": [
    "\n",
    "## Importing Libraries"
   ]
  },
  {
   "cell_type": "code",
   "execution_count": null,
   "id": "babd41ac",
   "metadata": {},
   "outputs": [],
   "source": [
    "# Handling warnings\n",
    "import warnings\n",
    "warnings.filterwarnings(\"ignore\")\n",
    "\n",
    "# Importing standard libraries\n",
    "import numpy as np\n",
    "import pandas as pd\n",
    "\n",
    "#visulation\n",
    "import matplotlib.pyplot as plt\n",
    "%matplotlib inline\n",
    "plt.rcParams[\"figure.figsize\"] = (16,6)\n",
    "\n",
    "import seaborn as sns\n",
    "\n",
    "from sklearn.preprocessing import StandardScaler\n",
    "from sklearn.model_selection import train_test_split\n",
    "\n",
    "import catboost as cb\n",
    "from sklearn.metrics import mean_squared_error , r2_score"
   ]
  },
  {
   "cell_type": "markdown",
   "id": "59302a58",
   "metadata": {},
   "source": [
    "## Reading The Data"
   ]
  },
  {
   "cell_type": "code",
   "execution_count": null,
   "id": "391ff770",
   "metadata": {},
   "outputs": [],
   "source": [
    "df = pd.read_csv('PUBG_Game_Prediction_data.csv')\n",
    "df.head()"
   ]
  },
  {
   "cell_type": "code",
   "execution_count": null,
   "id": "fea27ed1",
   "metadata": {},
   "outputs": [],
   "source": [
    "df.info()"
   ]
  },
  {
   "cell_type": "markdown",
   "id": "c43c5d95",
   "metadata": {},
   "source": [
    "## Data Descriptions\n",
    "\n",
    "<ul type='circle'>\n",
    "    <li><b> DBNO </b> - Number of enemy players knocked.\n",
    "    <li><b> assists </b> - Number of enemy players this player damaged that were killed by teammates.\n",
    "    <li><b> boosts  </b> - Number of boost items used.\n",
    "    <li><b> damageDealt  </b> -Total damage dealt. Note: Self inflicted damage is subtracted.\n",
    "    <li><b> headshotKills  </b> - Number of enemy players killed with headshots.\n",
    "    <li><b> heals  </b> - Number of healing items used.\n",
    "    <li><b> Id  </b> -  Player’s Id.\n",
    "    <li><b> killPlace </b> -Ranking in match of number of enemy players killed.\n",
    "    <li><b> killPoints  </b> -Kills-based external ranking of player. (Think of this as an Elo ranking where only kills matter.) If there is a value other than -1 in rankPoints, then any 0 in killPoints should be treated as a “None”.\n",
    "    <li><b> killStreaks </b> - Max number of enemy players killed in a short amount of time.\n",
    "    <li><b> kills  </b> - Number of enemy players killed.\n",
    "    <li><b> longestKill  </b> -Longest distance between player and player killed at time of death. This may be misleading, as downing a player and driving away may lead to a large longestKill stat.\n",
    "    <li><b> matchDuration  </b> - Duration of match in seconds\n",
    "    <li><b> matchId </b> -ID to identify match. There are no matches that are in both the training and testing set.\n",
    "    <li><b> matchType  </b> - String identifying the game mode that the data comes from. The standard modes are “solo”, “duo”, “squad”, “solo-fpp”, “duo-fpp”, and “squad-fpp”; other modes are from events or custom matches.\n",
    "    <li><b> rankPoints  </b> - Elo-like ranking of player. This ranking is inconsistent and is being deprecated in the API’s next version, so use with caution. Value of -1 takes place of “None”.\n",
    "    <li><b> revives  </b> - Number of times this player revived teammates.\n",
    "    <li><b> rideDistance </b> -  Total distance traveled in vehicles measured in meters.\n",
    "    <li><b> roadKills </b> - Number of kills while in a vehicle.\n",
    "    <li><b> swimDistance  </b> - Total distance traveled by swimming measured in meters.\n",
    "    <li><b> teamKills  </b> - Number of times this player killed a teammate\n",
    "    <li><b> vehicleDestroys  </b> -Number of vehicles destroyed\n",
    "    <li><b> walkDistance  </b> - Total distance traveled on foot measured in meters.-\n",
    "    <li><b> weaponsAcquired  </b> - Number of weapons picked up.\n",
    "    <li><b> winPoints  </b> - Win-based external ranking of player. (Think of this as an Elo ranking where only winning matters.) If there is a value other than -1 in rankPoints, then any 0 in winPoints should be treated as a “None”.\n",
    "    <li><b> groupId  </b> -ID to identify a group within a match. If the same group of players plays in different matches, they will have a different groupId each time.\n",
    "    <li><b> numGroups  </b> -Number of groups we have data for in the match.\n",
    "    <li><b> maxPlace  </b> - Worst placement we have data for in the match. This may not match with numGroups, as sometimes the data skips over placements.\n",
    "    <li><b> winPlacePerc  </b> -The target of prediction. This is a percentile winning placement, where 1 corresponds to 1st place, and 0 corresponds to last place in the match. It is calculated off of maxPlace, not numGroups, so it is possible to have missing chunks in a match.\n",
    "</ul>"
   ]
  },
  {
   "cell_type": "markdown",
   "id": "5943da46",
   "metadata": {},
   "source": [
    "## Data Wrangling"
   ]
  },
  {
   "cell_type": "markdown",
   "id": "9c6a76ce",
   "metadata": {},
   "source": [
    "###### Checking the rows for missing winPlacePerc"
   ]
  },
  {
   "cell_type": "markdown",
   "id": "481173b4",
   "metadata": {},
   "source": [
    "<center><img src = \"https://media.giphy.com/media/OPRbXcsGctvZC/giphy.gif\"></center>"
   ]
  },
  {
   "cell_type": "code",
   "execution_count": null,
   "id": "09fd7f4f",
   "metadata": {},
   "outputs": [],
   "source": [
    "df.drop(df[df['winPlacePerc'].isnull()].index , inplace = True)"
   ]
  },
  {
   "cell_type": "markdown",
   "id": "2d9f4d07",
   "metadata": {},
   "source": [
    "Prepare new paramter to know the number of parameter joine in the game"
   ]
  },
  {
   "cell_type": "code",
   "execution_count": null,
   "id": "4f4e005f",
   "metadata": {},
   "outputs": [],
   "source": [
    "df['PlayerJoined'] = df.groupby('matchId')['matchId'].transform('count')\n",
    "df.head()"
   ]
  },
  {
   "cell_type": "code",
   "execution_count": null,
   "id": "d2931867",
   "metadata": {},
   "outputs": [],
   "source": [
    "sns.countplot(df[df['PlayerJoined'] >= 75]['PlayerJoined'])\n",
    "plt.show()"
   ]
  },
  {
   "cell_type": "markdown",
   "id": "7a28cb3e",
   "metadata": {},
   "source": [
    "## Analysing the data"
   ]
  },
  {
   "cell_type": "markdown",
   "id": "ba8838e6",
   "metadata": {},
   "source": [
    "###### Kill without moving?"
   ]
  },
  {
   "cell_type": "code",
   "execution_count": null,
   "id": "ff57f4ae",
   "metadata": {},
   "outputs": [],
   "source": [
    "# total distance travelled\n",
    "df['totalDistance'] = df['rideDistance']+df['swimDistance']+df['walkDistance']\n",
    "\n",
    "df['killWithoutMoving'] = ((df['totalDistance']==0) & (df['kills']>0))"
   ]
  },
  {
   "cell_type": "code",
   "execution_count": null,
   "id": "ed9e21e2",
   "metadata": {},
   "outputs": [],
   "source": [
    "df.drop(df[df['killWithoutMoving']== True].index, inplace= True)"
   ]
  },
  {
   "cell_type": "markdown",
   "id": "75d98225",
   "metadata": {},
   "source": [
    "###### Extra-ordinary Road kills"
   ]
  },
  {
   "cell_type": "markdown",
   "id": "60132107",
   "metadata": {},
   "source": [
    "<center><img src = \"https://media.giphy.com/media/3o7aD85usFbbbrCR3i/giphy.gif\"></center>"
   ]
  },
  {
   "cell_type": "code",
   "execution_count": null,
   "id": "41faf57a",
   "metadata": {},
   "outputs": [],
   "source": [
    "df[df['roadKills'] > 5].shape"
   ]
  },
  {
   "cell_type": "code",
   "execution_count": null,
   "id": "563db0a6",
   "metadata": {},
   "outputs": [],
   "source": [
    "df.drop(df[df['roadKills'] >5].index , inplace = True)"
   ]
  },
  {
   "cell_type": "markdown",
   "id": "9ecdc250",
   "metadata": {},
   "source": [
    "###### Finding no of kill by the players of individual person"
   ]
  },
  {
   "cell_type": "markdown",
   "id": "6157317d",
   "metadata": {},
   "source": [
    "<center><img src = \"https://media.giphy.com/media/3oxHQfzBhpKtgdDWtW/giphy.gif\"></center>"
   ]
  },
  {
   "cell_type": "code",
   "execution_count": null,
   "id": "b724858b",
   "metadata": {},
   "outputs": [],
   "source": [
    "sns.countplot(data = df, x = df['kills']).set_title(\"Distribution of kills by the person\")\n",
    "plt.xlabel(\"kills\")\n",
    "plt.ylabel(\"No of players done that kill\")\n",
    "plt.show()"
   ]
  },
  {
   "cell_type": "code",
   "execution_count": null,
   "id": "64fd8c31",
   "metadata": {},
   "outputs": [],
   "source": [
    "sns.countplot(data= df , x = df[df['kills'] >= 12]['kills']).set_title(\"Distribution of kills by the person > 12\")\n",
    "plt.xlabel(\"kills\")\n",
    "plt.ylabel(\"No of players done that kill\")\n",
    "plt.show()"
   ]
  },
  {
   "cell_type": "code",
   "execution_count": null,
   "id": "6e28887a",
   "metadata": {},
   "outputs": [],
   "source": [
    "df.drop(df[df['kills'] > 20].index , inplace = True)"
   ]
  },
  {
   "cell_type": "markdown",
   "id": "5faabeca",
   "metadata": {},
   "source": [
    "###### Head Shot"
   ]
  },
  {
   "cell_type": "markdown",
   "id": "36dbd999",
   "metadata": {},
   "source": [
    "<center><img src = \"https://media.giphy.com/media/l3mZrOajz5VCZf7Hy/giphy.gif\"></center>"
   ]
  },
  {
   "cell_type": "code",
   "execution_count": null,
   "id": "c898b845",
   "metadata": {},
   "outputs": [],
   "source": [
    "df['headshot_rate'] = df['headshotKills']/df['kills']\n",
    "df['headshot_rate'] = df['headshot_rate'].fillna(0)"
   ]
  },
  {
   "cell_type": "code",
   "execution_count": null,
   "id": "1fabf06d",
   "metadata": {},
   "outputs": [],
   "source": [
    "sns.distplot(df['headshot_rate'] , bins= 20).set_title(\"Distribution of HeadShot rate\")\n",
    "plt.ylabel(\"Count of players\")\n",
    "plt.show()"
   ]
  },
  {
   "cell_type": "code",
   "execution_count": null,
   "id": "43750c84",
   "metadata": {},
   "outputs": [],
   "source": [
    "df[(df['headshot_rate'] >= 1) &(df['kills'] > 5)].shape"
   ]
  },
  {
   "cell_type": "code",
   "execution_count": null,
   "id": "69b114ad",
   "metadata": {},
   "outputs": [],
   "source": [
    "df.drop(df[(df['headshot_rate'] >= 1) &(df['kills'] > 5)].index , inplace = True)"
   ]
  },
  {
   "cell_type": "markdown",
   "id": "122c4059",
   "metadata": {},
   "source": [
    "## Longest Shot"
   ]
  },
  {
   "cell_type": "markdown",
   "id": "410d329e",
   "metadata": {},
   "source": [
    "<center><img src = \"https://media.giphy.com/media/3ohs7YomxqOz4GRHcQ/giphy.gif\"></center>"
   ]
  },
  {
   "cell_type": "code",
   "execution_count": null,
   "id": "d32edfe0",
   "metadata": {},
   "outputs": [],
   "source": [
    "sns.distplot(df['longestKill'] , bins = 50).set_title('Histogram Showing Longest Kill')\n",
    "plt.ylabel(\"Count of Players\")\n",
    "plt.show()"
   ]
  },
  {
   "cell_type": "code",
   "execution_count": null,
   "id": "9f7b3d49",
   "metadata": {},
   "outputs": [],
   "source": [
    "df[df['longestKill'] > 500].shape"
   ]
  },
  {
   "cell_type": "code",
   "execution_count": null,
   "id": "8318e63d",
   "metadata": {},
   "outputs": [],
   "source": [
    "df.drop(df[df['longestKill'] > 500].index , inplace = True)"
   ]
  },
  {
   "cell_type": "markdown",
   "id": "2944a350",
   "metadata": {},
   "source": [
    "## Weapon Change"
   ]
  },
  {
   "cell_type": "code",
   "execution_count": null,
   "id": "049ab83f",
   "metadata": {},
   "outputs": [],
   "source": [
    "sns.distplot(df['weaponsAcquired'] , bins = 100).set_title('Histogram of weapon Acquired')\n",
    "plt.ylabel(\"Total Weapon\")\n",
    "plt.show()"
   ]
  },
  {
   "cell_type": "code",
   "execution_count": null,
   "id": "7b0fd3c8",
   "metadata": {},
   "outputs": [],
   "source": [
    "df[df['weaponsAcquired'] >= 15].shape"
   ]
  },
  {
   "cell_type": "code",
   "execution_count": null,
   "id": "75d48c3b",
   "metadata": {},
   "outputs": [],
   "source": [
    "df.drop(df[df['weaponsAcquired'] >= 15].index , inplace = True)"
   ]
  },
  {
   "cell_type": "markdown",
   "id": "f593b1cd",
   "metadata": {},
   "source": [
    "## EDA"
   ]
  },
  {
   "cell_type": "code",
   "execution_count": null,
   "id": "d99728dc",
   "metadata": {},
   "outputs": [],
   "source": [
    "df.shape"
   ]
  },
  {
   "cell_type": "code",
   "execution_count": null,
   "id": "cbecbaac",
   "metadata": {},
   "outputs": [],
   "source": [
    "df.isna().sum(axis = 1).sum()"
   ]
  },
  {
   "cell_type": "code",
   "execution_count": null,
   "id": "32815b6a",
   "metadata": {},
   "outputs": [],
   "source": [
    "# Correlation of parameter with winPrediction\n",
    "plt.figure(figsize=[30,30])\n",
    "sns.heatmap(df.corr() , annot = True)\n",
    "plt.show()"
   ]
  },
  {
   "cell_type": "code",
   "execution_count": null,
   "id": "6b5efd54",
   "metadata": {},
   "outputs": [],
   "source": [
    "corr = pd.DataFrame(df.corr() , columns=df.columns)\n",
    "corr['winPlacePerc'].sort_values(ascending = False)"
   ]
  },
  {
   "cell_type": "markdown",
   "id": "cf5f0fcd",
   "metadata": {},
   "source": [
    "## Feature Engineering"
   ]
  },
  {
   "cell_type": "code",
   "execution_count": null,
   "id": "e79d11ec",
   "metadata": {},
   "outputs": [],
   "source": [
    "normalising_factor = ((100 - df['PlayerJoined'])/100 +1)"
   ]
  },
  {
   "cell_type": "code",
   "execution_count": null,
   "id": "0ced998d",
   "metadata": {},
   "outputs": [],
   "source": [
    "df.columns"
   ]
  },
  {
   "cell_type": "code",
   "execution_count": null,
   "id": "1b3c3040",
   "metadata": {},
   "outputs": [],
   "source": [
    "df['killsNorm'] = df['kills']*normalising_factor\n",
    "df['damageDealtNorm'] = df['damageDealt']*normalising_factor\n",
    "df['macPlaceNorm'] = df['maxPlace'] * normalising_factor\n",
    "df['matchDurationNorm']= df['matchDuration']*normalising_factor\n",
    "\n",
    "df['traveldistance'] = df['walkDistance'] + df['swimDistance'] + df['rideDistance']\n",
    "df['healsnboosts'] = df['heals'] + df['boosts']\n",
    "df['assist'] = df['assists'] + df['revives']"
   ]
  },
  {
   "cell_type": "code",
   "execution_count": null,
   "id": "4ce8b6e0",
   "metadata": {},
   "outputs": [],
   "source": [
    "df.columns"
   ]
  },
  {
   "cell_type": "code",
   "execution_count": null,
   "id": "411c18fa",
   "metadata": {},
   "outputs": [],
   "source": [
    "data = df.drop(columns=['Id', 'groupId', 'matchId', 'assists', 'boosts', 'damageDealt', 'DBNOs',\n",
    "       'headshotKills', 'heals', 'kills','matchDuration', 'maxPlace', 'rideDistance','swimDistance', 'walkDistance'])"
   ]
  },
  {
   "cell_type": "code",
   "execution_count": null,
   "id": "8641cd49",
   "metadata": {},
   "outputs": [],
   "source": [
    "data.head()"
   ]
  },
  {
   "cell_type": "markdown",
   "id": "241fcec0",
   "metadata": {},
   "source": [
    "## ML-Catboost Model"
   ]
  },
  {
   "cell_type": "markdown",
   "id": "42a3999f",
   "metadata": {},
   "source": [
    "###### Handling categorical data"
   ]
  },
  {
   "cell_type": "code",
   "execution_count": null,
   "id": "c1da8166",
   "metadata": {},
   "outputs": [],
   "source": [
    "x = data.drop(['winPlacePerc'] , axis = 1)\n",
    "y = data['winPlacePerc']"
   ]
  },
  {
   "cell_type": "code",
   "execution_count": null,
   "id": "caaa9838",
   "metadata": {},
   "outputs": [],
   "source": [
    "x = pd.get_dummies(x , columns = ['matchType' , 'killWithoutMoving'])"
   ]
  },
  {
   "cell_type": "code",
   "execution_count": null,
   "id": "e4f38b96",
   "metadata": {},
   "outputs": [],
   "source": [
    "x.head()"
   ]
  },
  {
   "cell_type": "markdown",
   "id": "1b318351",
   "metadata": {},
   "source": [
    "###### Splitting the data"
   ]
  },
  {
   "cell_type": "code",
   "execution_count": null,
   "id": "8fbcf7fc",
   "metadata": {},
   "outputs": [],
   "source": [
    "x_train , x_test , y_train , y_test = train_test_split(x , y , test_size = 0.2 , random_state = 42) "
   ]
  },
  {
   "cell_type": "code",
   "execution_count": null,
   "id": "8acfbb7c",
   "metadata": {},
   "outputs": [],
   "source": [
    "print(x_train.shape , y_train.shape)\n",
    "print(x_test.shape ,y_test.shape)"
   ]
  },
  {
   "cell_type": "markdown",
   "id": "a2e24a1a",
   "metadata": {},
   "source": [
    "## CatBoost Model"
   ]
  },
  {
   "cell_type": "code",
   "execution_count": null,
   "id": "f8c6e4a0",
   "metadata": {},
   "outputs": [],
   "source": [
    "import catboost as cb"
   ]
  },
  {
   "cell_type": "code",
   "execution_count": null,
   "id": "4d4b33b6",
   "metadata": {},
   "outputs": [],
   "source": [
    "train_dataset = cb.Pool(x_train , y_train)\n",
    "test_dataset =cb.Pool(x_test , y_test)\n"
   ]
  },
  {
   "cell_type": "code",
   "execution_count": null,
   "id": "2439db38",
   "metadata": {},
   "outputs": [],
   "source": [
    "model = cb.CatBoostRegressor(loss_function = 'RMSE')"
   ]
  },
  {
   "cell_type": "code",
   "execution_count": null,
   "id": "ebc24bb6",
   "metadata": {},
   "outputs": [],
   "source": [
    "grid = {\n",
    "    'iterations' :[100 , 200],\n",
    "    'learning_rate':[0.03,0.01,0.1],\n",
    "    'depth':[2,4,6,8,10]\n",
    "}\n",
    "model.grid_search(grid , train_dataset)"
   ]
  },
  {
   "cell_type": "code",
   "execution_count": null,
   "id": "f3f0bef4",
   "metadata": {},
   "outputs": [],
   "source": [
    "feature_importance_df = pd.DataFrame()\n",
    "feature_importance_df['features'] = features\n",
    "feature_importance_df['importance'] = model.feature_importances_\n",
    "\n",
    "feature_importance_df = feature_importance_df.sort_values(by=['importance'] , ascending = False)"
   ]
  },
  {
   "cell_type": "code",
   "execution_count": null,
   "id": "aff3feeb",
   "metadata": {},
   "outputs": [],
   "source": [
    "feature_importance_df"
   ]
  },
  {
   "cell_type": "code",
   "execution_count": null,
   "id": "2e849db7",
   "metadata": {},
   "outputs": [],
   "source": [
    "plt.bar(feature_importance_df.features , feature_importance_df.importance , colors='turquoise')\n",
    "plt.ylabel('Feature Importance')\n",
    "plt.xlabel('Features')\n",
    "plt.show()"
   ]
  },
  {
   "cell_type": "markdown",
   "id": "d2e59752",
   "metadata": {},
   "source": [
    "## Prediction"
   ]
  },
  {
   "cell_type": "code",
   "execution_count": null,
   "id": "3bc0e0bb",
   "metadata": {},
   "outputs": [],
   "source": [
    "pred = model.predict(x_test)"
   ]
  },
  {
   "cell_type": "code",
   "execution_count": null,
   "id": "2d7e6c93",
   "metadata": {},
   "outputs": [],
   "source": [
    "rmse = nq.sqrt(mean_squred_error(pred , y_test))\n",
    "r2 = r2_score(pred , y_test)\n",
    "\n",
    "print(\"Testing Performance\")\n",
    "\n",
    "print(f\"RMSE = {rmse:0.2f}\")\n",
    "printf(f\"r2 Score = {r2:0.2f}\")"
   ]
  },
  {
   "cell_type": "markdown",
   "id": "25bbec05",
   "metadata": {},
   "source": [
    "<center><img src = \"https://media.giphy.com/media/KB89dMAtH79VIvxNCW/giphy.gif\"></center>"
   ]
  },
  {
   "cell_type": "code",
   "execution_count": null,
   "id": "1ab42944",
   "metadata": {},
   "outputs": [],
   "source": []
  }
 ],
 "metadata": {
  "kernelspec": {
   "display_name": "Python 3",
   "language": "python",
   "name": "python3"
  }
 },
 "nbformat": 4,
 "nbformat_minor": 5
}
