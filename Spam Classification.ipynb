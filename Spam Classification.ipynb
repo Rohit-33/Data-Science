{
 "cells": [
  {
   "cell_type": "code",
   "execution_count": 3,
   "id": "1ab91229",
   "metadata": {},
   "outputs": [],
   "source": [
    "import os\n",
    "import tarfile\n",
    "import urllib.request\n",
    "\n",
    "DOWNLOAD_ROOT = \"http://spamassassin.apache.org/old/publiccorpus/\"\n",
    "HAM_URL = DOWNLOAD_ROOT + \"20030228_easy_ham.tar.bz2\"\n",
    "SPAM_URL = DOWNLOAD_ROOT + \"20030228_spam.tar.bz2\"\n",
    "SPAM_PATH = os.path.join(\"datasets\", \"spam\")\n",
    "\n",
    "def fetch_spam_data(ham_url=HAM_URL , spam_url=SPAM_URL , spam_path=SPAM_PATH):\n",
    "    if not os.path.isdir(spam_path):\n",
    "        os.makedirs(spam_path)\n",
    "    for filename, url in ((\"ham.tar.bz2\",ham_url) , (\"spam.tar.bz2\", spam_url)):\n",
    "        path = os.path.join(spam_path , filename)\n",
    "        if not os.path.isfile(path):\n",
    "            urllib.request.urlretrieve(url , path)\n",
    "        extract_file = tarfile.open(path)\n",
    "        extract_file.extractall(path = spam_path)\n",
    "        extract_file.close()\n",
    "    "
   ]
  },
  {
   "cell_type": "code",
   "execution_count": 4,
   "id": "416e56ed",
   "metadata": {},
   "outputs": [],
   "source": [
    "fetch_spam_data()"
   ]
  },
  {
   "cell_type": "code",
   "execution_count": 5,
   "id": "55ce440e",
   "metadata": {},
   "outputs": [],
   "source": [
    "HAM_DIR = os.path.join(SPAM_PATH , 'easy_ham')\n",
    "SPAM_DIR = os.path.join(SPAM_PATH , 'spam')\n",
    "\n",
    "spam_filesnames = [name for name in sorted(os.listdir(SPAM_DIR)) if len(name) > 5]\n",
    "ham_filesnames = [name for name in sorted(os.listdir(HAM_DIR)) if len(name) > 5]"
   ]
  },
  {
   "cell_type": "code",
   "execution_count": 6,
   "id": "3d0ee3b7",
   "metadata": {},
   "outputs": [
    {
     "name": "stdout",
     "output_type": "stream",
     "text": [
      "2500\n",
      "500\n"
     ]
    }
   ],
   "source": [
    "print(len(ham_filesnames))\n",
    "print(len(spam_filesnames))"
   ]
  },
  {
   "cell_type": "code",
   "execution_count": 7,
   "id": "c23d16f6",
   "metadata": {},
   "outputs": [],
   "source": [
    "import email\n",
    "import email.policy\n",
    "\n",
    "def load_email(is_spam , filename , spam_path = SPAM_PATH):\n",
    "    directory = \"spam\" if is_spam else \"easy_ham\"\n",
    "    with open(os.path.join(spam_path , directory, filename) , 'rb') as f:\n",
    "        return email.parser.BytesParser(policy = email.policy.default).parse(f)"
   ]
  },
  {
   "cell_type": "code",
   "execution_count": 8,
   "id": "0bebbfd3",
   "metadata": {},
   "outputs": [],
   "source": [
    "ham_emails = [load_email(is_spam = False , filename =name ) for name in ham_filesnames]\n",
    "spam_email = [load_email(is_spam = True, filename = name) for name in spam_filesnames]"
   ]
  },
  {
   "cell_type": "code",
   "execution_count": 9,
   "id": "d07e01ab",
   "metadata": {},
   "outputs": [
    {
     "name": "stdout",
     "output_type": "stream",
     "text": [
      "Date:        Wed, 21 Aug 2002 10:54:46 -0500\n",
      "    From:        Chris Garrigues <cwg-dated-1030377287.06fa6d@DeepEddy.Com>\n",
      "    Message-ID:  <1029945287.4797.TMDA@deepeddy.vircio.com>\n",
      "\n",
      "\n",
      "  | I can't reproduce this error.\n",
      "\n",
      "For me it is very repeatable... (like every time, without fail).\n",
      "\n",
      "This is the debug log of the pick happening ...\n",
      "\n",
      "18:19:03 Pick_It {exec pick +inbox -list -lbrace -lbrace -subject ftp -rbrace -rbrace} {4852-4852 -sequence mercury}\n",
      "18:19:03 exec pick +inbox -list -lbrace -lbrace -subject ftp -rbrace -rbrace 4852-4852 -sequence mercury\n",
      "18:19:04 Ftoc_PickMsgs {{1 hit}}\n",
      "18:19:04 Marking 1 hits\n",
      "18:19:04 tkerror: syntax error in expression \"int ...\n",
      "\n",
      "Note, if I run the pick command by hand ...\n",
      "\n",
      "delta$ pick +inbox -list -lbrace -lbrace -subject ftp -rbrace -rbrace  4852-4852 -sequence mercury\n",
      "1 hit\n",
      "\n",
      "That's where the \"1 hit\" comes from (obviously).  The version of nmh I'm\n",
      "using is ...\n",
      "\n",
      "delta$ pick -version\n",
      "pick -- nmh-1.0.4 [compiled on fuchsia.cs.mu.OZ.AU at Sun Mar 17 14:55:56 ICT 2002]\n",
      "\n",
      "And the relevant part of my .mh_profile ...\n",
      "\n",
      "delta$ mhparam pick\n",
      "-seq sel -list\n",
      "\n",
      "\n",
      "Since the pick command works, the sequence (actually, both of them, the\n",
      "one that's explicit on the command line, from the search popup, and the\n",
      "one that comes from .mh_profile) do get created.\n",
      "\n",
      "kre\n",
      "\n",
      "ps: this is still using the version of the code form a day ago, I haven't\n",
      "been able to reach the cvs repository today (local routing issue I think).\n",
      "\n",
      "\n",
      "\n",
      "_______________________________________________\n",
      "Exmh-workers mailing list\n",
      "Exmh-workers@redhat.com\n",
      "https://listman.redhat.com/mailman/listinfo/exmh-workers\n",
      "----------------------------------------------------------------------------------------------------\n",
      "<!DOCTYPE HTML PUBLIC \"-//W3C//DTD HTML 4.0 Transitional//EN\">\n",
      "<HTML><HEAD>\n",
      "<META content=\"text/html; charset=windows-1252\" http-equiv=Content-Type>\n",
      "<META content=\"MSHTML 5.00.2314.1000\" name=GENERATOR></HEAD>\n",
      "<BODY><!-- Inserted by Calypso -->\n",
      "<TABLE border=0 cellPadding=0 cellSpacing=2 id=_CalyPrintHeader_ rules=none \n",
      "style=\"COLOR: black; DISPLAY: none\" width=\"100%\">\n",
      "  <TBODY>\n",
      "  <TR>\n",
      "    <TD colSpan=3>\n",
      "      <HR color=black noShade SIZE=1>\n",
      "    </TD></TR></TD></TR>\n",
      "  <TR>\n",
      "    <TD colSpan=3>\n",
      "      <HR color=black noShade SIZE=1>\n",
      "    </TD></TR></TBODY></TABLE><!-- End Calypso --><!-- Inserted by Calypso --><FONT \n",
      "color=#000000 face=VERDANA,ARIAL,HELVETICA size=-2><BR></FONT></TD></TR></TABLE><!-- End Calypso --><FONT color=#ff0000 \n",
      "face=\"Copperplate Gothic Bold\" size=5 PTSIZE=\"10\">\n",
      "<CENTER>Save up to 70% on Life Insurance.</CENTER></FONT><FONT color=#ff0000 \n",
      "face=\"Copperplate Gothic Bold\" size=5 PTSIZE=\"10\">\n",
      "<CENTER>Why Spend More Than You Have To?\n",
      "<CENTER><FONT color=#ff0000 face=\"Copperplate Gothic Bold\" size=5 PTSIZE=\"10\">\n",
      "<CENTER>Life Quote Savings\n",
      "<CENTER>\n",
      "<P align=left></P>\n",
      "<P align=left></P></FONT></U></I></B><BR></FONT></U></B></U></I>\n",
      "<P></P>\n",
      "<CENTER>\n",
      "<TABLE border=0 borderColor=#111111 cellPadding=0 cellSpacing=0 width=650>\n",
      "  <TBODY></TBODY></TABLE>\n",
      "<TABLE border=0 borderColor=#111111 cellPadding=5 cellSpacing=0 width=650>\n",
      "  <TBODY>\n",
      "  <TR>\n",
      "    <TD colSpan=2 width=\"35%\"><B><FONT face=Verdana size=4>Ensuring your \n",
      "      family's financial security is very important. Life Quote Savings makes \n",
      "      buying life insurance simple and affordable. We Provide FREE Access to The \n",
      "      Very Best Companies and The Lowest Rates.</FONT></B></TD></TR>\n",
      "  <TR>\n",
      "    <TD align=middle vAlign=top width=\"18%\">\n",
      "      <TABLE borderColor=#111111 width=\"100%\">\n",
      "        <TBODY>\n",
      "        <TR>\n",
      "          <TD style=\"PADDING-LEFT: 5px; PADDING-RIGHT: 5px\" width=\"100%\"><FONT \n",
      "            face=Verdana size=4><B>Life Quote Savings</B> is FAST, EASY and \n",
      "            SAVES you money! Let us help you get started with the best values in \n",
      "            the country on new coverage. You can SAVE hundreds or even thousands \n",
      "            of dollars by requesting a FREE quote from Lifequote Savings. Our \n",
      "            service will take you less than 5 minutes to complete. Shop and \n",
      "            compare. SAVE up to 70% on all types of Life insurance! \n",
      "</FONT></TD></TR>\n",
      "        <TR><BR><BR>\n",
      "          <TD height=50 style=\"PADDING-LEFT: 5px; PADDING-RIGHT: 5px\" \n",
      "          width=\"100%\">\n",
      "            <P align=center><B><FONT face=Verdana size=5><A \n",
      "            href=\"http://website.e365.cc/savequote/\">Click Here For Your \n",
      "            Free Quote!</A></FONT></B></P></TD>\n",
      "          <P><FONT face=Verdana size=4><STRONG>\n",
      "          <CENTER>Protecting your family is the best investment you'll ever \n",
      "          make!<BR></B></TD></TR>\n",
      "        <TR><BR><BR></STRONG></FONT></TD></TR></TD></TR>\n",
      "        <TR></TR></TBODY></TABLE>\n",
      "      <P align=left><FONT face=\"Arial, Helvetica, sans-serif\" size=2></FONT></P>\n",
      "      <P></P>\n",
      "      <CENTER><BR><BR><BR>\n",
      "      <P></P>\n",
      "      <P align=left><BR></B><BR><BR><BR><BR></P>\n",
      "      <P align=center><BR></P>\n",
      "      <P align=left><BR></B><BR><BR></FONT>If you are in receipt of this email \n",
      "      in error and/or wish to be removed from our list, <A \n",
      "      href=\"mailto:coins@btamail.net.cn\">PLEASE CLICK HERE</A> AND TYPE REMOVE. If you \n",
      "      reside in any state which prohibits e-mail solicitations for insurance, \n",
      "      please disregard this \n",
      "      email.<BR></FONT><BR><BR><BR><BR><BR><BR><BR><BR><BR><BR><BR><BR><BR><BR><BR><BR></FONT></P></CENTER></CENTER></TR></TBODY></TABLE></CENTER></CENTER></CENTER></CENTER></CENTER></BODY></HTML>\n"
     ]
    }
   ],
   "source": [
    "print(ham_emails[0].get_content().strip())\n",
    "print(\"-\"*100)\n",
    "print(spam_email[0].get_content().strip())"
   ]
  },
  {
   "cell_type": "code",
   "execution_count": 10,
   "id": "da0e84e7",
   "metadata": {},
   "outputs": [],
   "source": [
    "def get_email_structure(email):\n",
    "    if isinstance(email, str):\n",
    "        return email\n",
    "    \n",
    "    if isinstance(email , list):\n",
    "        return \"multipart({})\".format(','.join([\n",
    "            get_email_structure(sub_email) for sub_email in payload\n",
    "        ]))\n",
    "    else:\n",
    "        return email.get_content_type()"
   ]
  },
  {
   "cell_type": "code",
   "execution_count": 11,
   "id": "bc13205d",
   "metadata": {},
   "outputs": [],
   "source": [
    "from collections import Counter\n",
    "\n",
    "def structures_counter(emails):\n",
    "    structures = Counter()\n",
    "    for email in emails:\n",
    "        structure = get_email_structure(email)\n",
    "        structures[structure] += 1\n",
    "    return structures"
   ]
  },
  {
   "cell_type": "code",
   "execution_count": 12,
   "id": "e77ae33f",
   "metadata": {},
   "outputs": [
    {
     "data": {
      "text/plain": [
       "[('text/plain', 2408),\n",
       " ('multipart/signed', 68),\n",
       " ('multipart/mixed', 10),\n",
       " ('multipart/alternative', 9),\n",
       " ('multipart/related', 3),\n",
       " ('multipart/report', 2)]"
      ]
     },
     "execution_count": 12,
     "metadata": {},
     "output_type": "execute_result"
    }
   ],
   "source": [
    "structures_counter(ham_emails).most_common()"
   ]
  },
  {
   "cell_type": "code",
   "execution_count": 13,
   "id": "6e4b82bd",
   "metadata": {},
   "outputs": [
    {
     "data": {
      "text/plain": [
       "[('text/plain', 218),\n",
       " ('text/html', 183),\n",
       " ('multipart/alternative', 47),\n",
       " ('multipart/mixed', 43),\n",
       " ('multipart/related', 9)]"
      ]
     },
     "execution_count": 13,
     "metadata": {},
     "output_type": "execute_result"
    }
   ],
   "source": [
    "structures_counter(spam_email).most_common()"
   ]
  },
  {
   "cell_type": "code",
   "execution_count": 14,
   "id": "a32c12ae",
   "metadata": {},
   "outputs": [
    {
     "name": "stdout",
     "output_type": "stream",
     "text": [
      "Return-Path : <12a1mailbot1@web.de>\n",
      "Delivered-To : zzzz@localhost.spamassassin.taint.org\n",
      "Received : from localhost (localhost [127.0.0.1])\tby phobos.labs.spamassassin.taint.org (Postfix) with ESMTP id 136B943C32\tfor <zzzz@localhost>; Thu, 22 Aug 2002 08:17:21 -0400 (EDT)\n",
      "Received : from mail.webnote.net [193.120.211.219]\tby localhost with POP3 (fetchmail-5.9.0)\tfor zzzz@localhost (single-drop); Thu, 22 Aug 2002 13:17:21 +0100 (IST)\n",
      "Received : from dd_it7 ([210.97.77.167])\tby webnote.net (8.9.3/8.9.3) with ESMTP id NAA04623\tfor <zzzz@spamassassin.taint.org>; Thu, 22 Aug 2002 13:09:41 +0100\n",
      "From : 12a1mailbot1@web.de\n",
      "Received : from r-smtp.korea.com - 203.122.2.197 by dd_it7  with Microsoft SMTPSVC(5.5.1775.675.6);\t Sat, 24 Aug 2002 09:42:10 +0900\n",
      "To : dcek1a1@netsgo.com\n",
      "Subject : Life Insurance - Why Pay More?\n",
      "Date : Wed, 21 Aug 2002 20:31:57 -1600\n",
      "MIME-Version : 1.0\n",
      "Message-ID : <0103c1042001882DD_IT7@dd_it7>\n",
      "Content-Type : text/html; charset=\"iso-8859-1\"\n",
      "Content-Transfer-Encoding : quoted-printable\n"
     ]
    }
   ],
   "source": [
    "for header,values in spam_email[0].items():\n",
    "    print(header,':' ,  values)"
   ]
  },
  {
   "cell_type": "code",
   "execution_count": 15,
   "id": "bd030c32",
   "metadata": {},
   "outputs": [
    {
     "data": {
      "text/plain": [
       "'Life Insurance - Why Pay More?'"
      ]
     },
     "execution_count": 15,
     "metadata": {},
     "output_type": "execute_result"
    }
   ],
   "source": [
    "spam_email[0]['Subject']"
   ]
  },
  {
   "cell_type": "code",
   "execution_count": 16,
   "id": "b37f05b4",
   "metadata": {},
   "outputs": [],
   "source": [
    "import numpy as np\n",
    "from sklearn.model_selection import train_test_split\n",
    "\n",
    "X = np.array(spam_email + ham_emails , dtype= 'object')\n",
    "y = np.array(len(spam_email)*[1] + len(ham_emails)*[0])\n",
    "\n",
    "X_train,X_test , y_train,y_test = train_test_split(X,y,test_size = 0.2 , random_state = 42)"
   ]
  },
  {
   "cell_type": "code",
   "execution_count": 17,
   "id": "473a272c",
   "metadata": {},
   "outputs": [],
   "source": [
    "import re\n",
    "from html import unescape\n",
    "\n",
    "def html_to_plain_text(html):\n",
    "    \n",
    "    text = re.sub(\"<head.*?>.*?</head>\" , \"\", html, flags=re.M | re.S|re.I)\n",
    "    text = re.sub(\"<a/s*?>\", \"HYPERLINK\", text,flags = re.M | re.S|re.I)\n",
    "    text = re.sub(\"<.?>\", \" \", text , flags = re.M|re.S|re.I)\n",
    "    text = re.sub(r\"(\\s\\n)+\" , \"\\n\" , text , flags= re.M | re.S|re.I)\n",
    "    return unescape(text)"
   ]
  },
  {
   "cell_type": "code",
   "execution_count": 18,
   "id": "6330d038",
   "metadata": {},
   "outputs": [
    {
     "name": "stdout",
     "output_type": "stream",
     "text": [
      "<p>We thank you for just a moment of your time.  NextResearch is inviting you to join a panel of consumer electronics users now being created to help manufacturers, network programmers, and entertainment companies shape their future offerings.  In exchange for your willingness to participate, there will be prizes and incentives awarded. ALL CONTACT INFORMATION WILL BE HELD IN STRICTEST CONFIDENCE AND WE WILL NEVER TRY TO SELL YOU ANYTHING.  You will be able to opt-out of the panel at any time.</p> \n",
      "\t\t\t\t\tPlease click here <a href=http://65.19.137.17/nextresearch/nr.htm>http://65.19.137.17/nextresearch/nr.htm</a> if you would like to participate in your first survey and earn a chance to win one of 25 new Digital Video Recorders being awarded in September!  (You do not have to join the panel to participate in this survey.) This is a national market research program conducted with the highest ethical standards. Feel free to contact program director, Jennifer Choate at 901.491.4995 with any\n",
      " .....\n"
     ]
    }
   ],
   "source": [
    "html_spam_emails = [email for email in X_train[y_train==1] if get_email_structure(email)=='text/html']\n",
    "sample_spam_email = html_spam_emails[0]\n",
    "print(sample_spam_email.get_content().strip()[:1000] +\"\\n .....\")"
   ]
  },
  {
   "cell_type": "code",
   "execution_count": 19,
   "id": "571d8b84",
   "metadata": {},
   "outputs": [
    {
     "name": "stdout",
     "output_type": "stream",
     "text": [
      "  We thank you for just a moment of your time.  NextResearch is inviting you to join a panel of consumer electronics users now being created to help manufacturers, network programmers, and entertainment companies shape their future offerings.  In exchange for your willingness to participate, there will be prizes and incentives awarded. ALL CONTACT INFORMATION WILL BE HELD IN STRICTEST CONFIDENCE AND WE WILL NEVER TRY TO SELL YOU ANYTHING.  You will be able to opt-out of the panel at any time.</p>\n",
      "\t\t\t\t\tPlease click here <a href=http://65.19.137.17/nextresearch/nr.htm>http://65.19.137.17/nextresearch/nr.htm</a> if you would like to participate in your first survey and earn a chance to win one of 25 new Digital Video Recorders being awarded in September!  (You do not have to join the panel to participate in this survey.) This is a national market research program conducted with the highest ethical standards. Feel free to contact program director, Jennifer Choate at 901.491.4995 with any q\n",
      " ....\n"
     ]
    }
   ],
   "source": [
    "print(html_to_plain_text(sample_spam_email.get_content())[:1000] + \"\\n ....\")"
   ]
  },
  {
   "cell_type": "code",
   "execution_count": 20,
   "id": "2b668649",
   "metadata": {},
   "outputs": [],
   "source": [
    "def email_to_text(email):\n",
    "    html = None\n",
    "    for part in email.walk():\n",
    "        ctype = part.get_content_type()\n",
    "\n",
    "        if not ctype in ('text/plain' , 'text/html'):\n",
    "            continue\n",
    "        try:\n",
    "            content = part.get_content()\n",
    "        except:\n",
    "            content = str(part.get_payload())\n",
    "        if ctype == 'text/plain':\n",
    "            return content\n",
    "        else:\n",
    "            html = content\n",
    "    if html:\n",
    "        return html_to_plain_text(html)"
   ]
  },
  {
   "cell_type": "code",
   "execution_count": 21,
   "id": "450c8e01",
   "metadata": {},
   "outputs": [
    {
     "name": "stdout",
     "output_type": "stream",
     "text": [
      "  We thank you for just a moment of your time.  NextResearch is inviting you to join a panel of cons\n",
      " ...\n"
     ]
    }
   ],
   "source": [
    "print(email_to_text(sample_spam_email)[:100] + \"\\n ...\")"
   ]
  },
  {
   "cell_type": "code",
   "execution_count": 22,
   "id": "5ee8a7db",
   "metadata": {},
   "outputs": [
    {
     "name": "stdout",
     "output_type": "stream",
     "text": [
      "Stemmer word is  computaiotn\n",
      "Stemmer word is  comput\n",
      "Stemmer word is  comput\n",
      "Stemmer word is  comput\n",
      "Stemmer word is  compulus\n"
     ]
    }
   ],
   "source": [
    "# nltk stemmer module\n",
    "try:\n",
    "    import nltk\n",
    "    \n",
    "    stemmer = nltk.PorterStemmer()\n",
    "    for word in (\"Computaiotn\" , \"Computing\" ,\"Computed\" , \"Compute\" , \"Compulusive\"):\n",
    "        print(\"Stemmer word is \",stemmer.stem(word))\n",
    "except Exception as e:\n",
    "    print(\"Exception \" + str(e) + \"occurs\")\n"
   ]
  },
  {
   "cell_type": "code",
   "execution_count": 23,
   "id": "04d12f8a",
   "metadata": {},
   "outputs": [
    {
     "name": "stdout",
     "output_type": "stream",
     "text": [
      "name 'url_extract' is not defined\n"
     ]
    }
   ],
   "source": [
    "# url extractor\n",
    "try:\n",
    "    import urlextract\n",
    "    \n",
    "    url_extractor = urlextract.URLExtract()\n",
    "    print(url_extract.find_urls(\"https://github.com/Rohit-33?tab=repositories and https://github.com/Rohit-33/Data-Science\"))\n",
    "except Exception as e:\n",
    "    print(e)\n",
    "    "
   ]
  },
  {
   "cell_type": "code",
   "execution_count": 24,
   "id": "a430c317",
   "metadata": {},
   "outputs": [],
   "source": [
    "from sklearn.base import BaseEstimator , TransformerMixin\n",
    "\n",
    "class EmailToWordCounter(BaseEstimator , TransformerMixin):\n",
    "    def __init__(self,strip_headers = True , lower_case = True , remove_punctuation = True,\n",
    "                replace_urls = True , replace_numbers  = True , stemming = True ):\n",
    "        self.strip_headres = strip_headers\n",
    "        self.lower_case = lower_case\n",
    "        self.remove_punctuation = remove_punctuation\n",
    "        self.replace_urls = replace_urls\n",
    "        self.replace_numbers = replace_numbers\n",
    "        self.stemming = stemming\n",
    "    def fit(self , X  , y = None):\n",
    "        return self\n",
    "    def transform(self , X , y = None):\n",
    "        X_transformed = []\n",
    "        for email in X:\n",
    "            text = email_to_text(email) or \"\"\n",
    "            if self.lower_case:\n",
    "                text = text.lower()\n",
    "            if self.replace_urls and url_extractor is not None:\n",
    "                urls = list(url_extractor.find_urls(text))\n",
    "                urls.sort(key = lambda url : len(url) , reverse = True)\n",
    "                for url in urls:\n",
    "                    text.replace(url , \" URL \")\n",
    "            if self.replace_numbers:\n",
    "                text = re.sub(r\"\\d+(?:\\.\\d*)?(?:[eE][+-]\\d*)?\",\"NUMBER\" , text)\n",
    "            if self.remove_punctuation:\n",
    "                text = re.sub(r\"\\W+\" , \" \" , text, flags = re.S |re.M|re.I)\n",
    "            word_counts = Counter(text.split())\n",
    "            if self.stemming and stemmer is not None:\n",
    "                stemmed_word_counts = Counter()\n",
    "                for word,counts in word_counts.items():\n",
    "                    stemmed_word = stemmer.stem(word)\n",
    "                    stemmed_word_counts[stemmed_word] += counts\n",
    "                word_counts = stemmed_word_counts\n",
    "            X_transformed.append(word_counts)\n",
    "        return np.array(X_transformed)"
   ]
  },
  {
   "cell_type": "code",
   "execution_count": 25,
   "id": "f77c70a2",
   "metadata": {},
   "outputs": [
    {
     "data": {
      "text/plain": [
       "array([Counter({'number': 9, 'url': 1, 'http': 1, 'www': 1, 'newsisfre': 1, 'com': 1, 'click': 1, 'date': 1, 'numbertnumb': 1, 'bbc': 1, 'report': 1, 'donal': 1, 'macintyr': 1, 'win': 1, 'high': 1, 'profil': 1, 'libel': 1, 'case': 1, 'against': 1, 'polic': 1}),\n",
       "       Counter({'ie': 4, 'linux': 4, 'waider': 3, 'i': 3, 'if': 2, 'in': 2, 'befor': 2, 'it': 2, 'that': 2, 'ilug': 2, 'you': 1, 're': 1, 'not': 1, 'doolin': 1, 'beg': 1, 'borrow': 1, 'or': 1, 'steal': 1, 'your': 1, 'way': 1, 'there': 1, 'the': 1, 'lbw': 1, 'folk': 1, 'depart': 1, 's': 1, 'far': 1, 'too': 1, 'much': 1, 'fun': 1, 'cheer': 1, 'just': 1, 'back': 1, 'ye': 1, 'is': 1, 'veri': 1, 'person': 1, 'of': 1, 'me': 1, 'we': 1, 'are': 1, 'fact': 1, 'well': 1, 'and': 1, 'truli': 1, 'doom': 1, 'she': 1, 'say': 1, 'leav': 1, 'now': 1, 'can': 1, 'probabl': 1, 'get': 1, 'a': 1, 'good': 1, 'head': 1, 'start': 1, 'they': 1, 'realiz': 1, 'm': 1, 'gone': 1, 'jami': 1, 'zawinski': 1, 'irish': 1, 'user': 1, 'group': 1, 'http': 1, 'www': 1, 'mailman': 1, 'listinfo': 1, 'for': 1, 'un': 1, 'subscript': 1, 'inform': 1, 'list': 1, 'maintain': 1, 'listmast': 1}),\n",
       "       Counter({'and': 18, 'of': 16, 'to': 15, 'i': 14, 'the': 14, 'my': 13, 'in': 12, 'you': 10, 'thi': 9, 'for': 7, 'husband': 5, 'that': 5, 'number': 5, 'want': 5, 'your': 5, 'son': 4, 'other': 4, 'will': 4, 'us': 4, 'linux': 4, 'mr': 3, 'late': 3, 'as': 3, 'situat': 3, 'with': 3, 'kongolo': 3, 'where': 3, 's': 3, 'deposit': 3, 'countri': 3, 'money': 3, 'safe': 3, 'kabila': 3, 'is': 3, 'invest': 3, 'not': 3, 'assist': 3, 'social': 3, 'ie': 3, 'am': 2, 'sese': 2, 'seko': 2, 'presid': 2, 'now': 2, 'democrat': 2, 'republ': 2, 'congo': 2, 'drc': 2, 'move': 2, 'wa': 2, 'confid': 2, 'our': 2, 'out': 2, 'settl': 2, 'we': 2, 'later': 2, 'decid': 2, 'chang': 2, 'dollar': 2, 'swiss': 2, 'purpos': 2, 'state': 2, 'ha': 2, 'govern': 2, 'european': 2, 'all': 2, 'confisc': 2, 'ident': 2, 'so': 2, 'be': 2, 'compani': 2, 'can': 2, 'fund': 2, 'also': 2, 'which': 2, 'project': 2, 'maintain': 2, 'inform': 2, 'dear': 1, 'friend': 1, 'widow': 1, 'mobutu': 1, 'zair': 1, 'known': 1, 'write': 1, 'letter': 1, 'consid': 1, 'present': 1, 'circumst': 1, 'escap': 1, 'along': 1, 'two': 1, 'jame': 1, 'nzanga': 1, 'abidjan': 1, 'cote': 1, 'ivoir': 1, 'famili': 1, 'while': 1, 'morroco': 1, 'die': 1, 'cancer': 1, 'diseas': 1, 'howev': 1, 'due': 1, 'most': 1, 'billion': 1, 'bank': 1, 'into': 1, 'form': 1, 'code': 1, 'becaus': 1, 'new': 1, 'head': 1, 'dr': 1, 'laurent': 1, 'made': 1, 'arrang': 1, 'freez': 1, 'treasur': 1, 'some': 1, 'henc': 1, 'children': 1, 'lay': 1, 'low': 1, 'africa': 1, 'studi': 1, 'till': 1, 'when': 1, 'thing': 1, 'get': 1, 'better': 1, 'like': 1, 'dead': 1, 'take': 1, 'over': 1, 'joseph': 1, 'one': 1, 'chateaux': 1, 'southern': 1, 'franc': 1, 'by': 1, 'french': 1, 'such': 1, 'had': 1, 'trace': 1, 'have': 1, 'sum': 1, 'eighteen': 1, 'million': 1, 'unit': 1, 'a': 1, 'secur': 1, 'keep': 1, 'what': 1, 'do': 1, 'indic': 1, 'yourinterest': 1, 'receiv': 1, 'on': 1, 'behalf': 1, 'introduc': 1, 'who': 1, 'modal': 1, 'claim': 1, 'said': 1, 'but': 1, 'reveal': 1, 'acquir': 1, 'real': 1, 'land': 1, 'properti': 1, 'stock': 1, 'multi': 1, 'nation': 1, 'engag': 1, 'non': 1, 'specul': 1, 'advisebi': 1, 'good': 1, 'self': 1, 'may': 1, 'at': 1, 'point': 1, 'emphas': 1, 'high': 1, 'level': 1, 'confidenti': 1, 'upcom': 1, 'demand': 1, 'hope': 1, 'betray': 1, 'trust': 1, 'repos': 1, 'conclus': 1, 'if': 1, 'shall': 1, 'divulgeto': 1, 'brief': 1, 'regard': 1, 'tell': 1, 'are': 1, 'current': 1, 'discuss': 1, 'remuner': 1, 'servic': 1, 'reason': 1, 'kindli': 1, 'furnish': 1, 'contact': 1, 'person': 1, 'telephon': 1, 'fax': 1, 'valid': 1, 'acknowledg': 1, 'receipt': 1, 'mail': 1, 'use': 1, 'abov': 1, 'email': 1, 'address': 1, 'sincer': 1, 'mariam': 1, 'm': 1, 'seseseko': 1, 'irish': 1, 'user': 1, 'group': 1, 'event': 1, 'http': 1, 'www': 1, 'mailman': 1, 'listinfo': 1, 'un': 1, 'subscript': 1, 'list': 1, 'listmast': 1})],\n",
       "      dtype=object)"
      ]
     },
     "execution_count": 25,
     "metadata": {},
     "output_type": "execute_result"
    }
   ],
   "source": [
    "X_few_train = EmailToWordCounter().fit_transform(X_train[0:3])\n",
    "X_few_train\n"
   ]
  },
  {
   "cell_type": "code",
   "execution_count": 26,
   "id": "e6f38caf",
   "metadata": {},
   "outputs": [],
   "source": [
    "from scipy.sparse import csr_matrix\n",
    "\n",
    "class WordCounterToVector(BaseEstimator , TransformerMixin):\n",
    "    def __init__(self , vocabulary_size = 1000):\n",
    "        self.vocabulary_size = vocabulary_size\n",
    "    def fit(self , X , y = None):\n",
    "        total_count = Counter()\n",
    "        for word_count in X:\n",
    "            for word , count in word_count.items():\n",
    "                total_count[word] += min(count , 10)\n",
    "        most_common = total_count.most_common()[:self.vocabulary_size]\n",
    "        self.vocabulary_ = {word : index+1 for index , (word , count) in enumerate(most_common)}\n",
    "        return self\n",
    "    def transform(self , X , y =None):\n",
    "        rows = []\n",
    "        cols = []\n",
    "        data = []\n",
    "        for row , word_count in enumerate(X):\n",
    "            for word , count in word_count.items():\n",
    "                rows.append(row)\n",
    "                cols.append(self.vocabulary_.get(word , 0))\n",
    "                data.append(count)\n",
    "        return csr_matrix((data , (rows , cols)) , shape = (len(X) , self.vocabulary_size +1))"
   ]
  },
  {
   "cell_type": "code",
   "execution_count": 27,
   "id": "28214100",
   "metadata": {},
   "outputs": [
    {
     "name": "stdout",
     "output_type": "stream",
     "text": [
      "[[ 19   9   0   0   0   0   0   0   0   0   0]\n",
      " [ 84   0   3   2   1   1   1   1   0   0   0]\n",
      " [341   5  14  12  10  14  16  18  15  13   9]]\n"
     ]
    }
   ],
   "source": [
    "vocab_trans = WordCounterToVector(vocabulary_size= 10)\n",
    "X_few_vocab = vocab_trans.fit_transform(X_few_train)\n",
    "print(X_few_vocab.toarray())"
   ]
  },
  {
   "cell_type": "code",
   "execution_count": 28,
   "id": "5e699b50",
   "metadata": {},
   "outputs": [
    {
     "data": {
      "text/plain": [
       "{'number': 1,\n",
       " 'i': 2,\n",
       " 'in': 3,\n",
       " 'you': 4,\n",
       " 'the': 5,\n",
       " 'of': 6,\n",
       " 'and': 7,\n",
       " 'to': 8,\n",
       " 'my': 9,\n",
       " 'thi': 10}"
      ]
     },
     "execution_count": 28,
     "metadata": {},
     "output_type": "execute_result"
    }
   ],
   "source": [
    "vocab_trans.vocabulary_"
   ]
  },
  {
   "cell_type": "code",
   "execution_count": 29,
   "id": "09e6d4c0",
   "metadata": {},
   "outputs": [],
   "source": [
    "from sklearn.linear_model  import LogisticRegression\n",
    "from sklearn.model_selection import cross_val_score\n",
    "from sklearn.pipeline import Pipeline\n",
    "\n",
    "preprocess_pipeline = Pipeline([\n",
    "    ('email_to_wordcount',EmailToWordCounter()),\n",
    "    ('wordcount_to_vectors' ,WordCounterToVector()),\n",
    "])\n",
    "\n",
    "X_train_transformed = preprocess_pipeline.fit_transform(X_train)"
   ]
  },
  {
   "cell_type": "code",
   "execution_count": 30,
   "id": "c90d1fe8",
   "metadata": {},
   "outputs": [
    {
     "name": "stderr",
     "output_type": "stream",
     "text": [
      "[Parallel(n_jobs=1)]: Using backend SequentialBackend with 1 concurrent workers.\n"
     ]
    },
    {
     "name": "stdout",
     "output_type": "stream",
     "text": [
      "[CV] END ................................ score: (test=0.988) total time=   0.2s\n",
      "[CV] END ................................ score: (test=0.990) total time=   0.0s\n"
     ]
    },
    {
     "name": "stderr",
     "output_type": "stream",
     "text": [
      "[Parallel(n_jobs=1)]: Done   1 out of   1 | elapsed:    0.2s remaining:    0.0s\n",
      "[Parallel(n_jobs=1)]: Done   2 out of   2 | elapsed:    0.3s remaining:    0.0s\n"
     ]
    },
    {
     "name": "stdout",
     "output_type": "stream",
     "text": [
      "[CV] END ................................ score: (test=0.990) total time=   0.2s\n",
      "0.99\n"
     ]
    },
    {
     "name": "stderr",
     "output_type": "stream",
     "text": [
      "[Parallel(n_jobs=1)]: Done   3 out of   3 | elapsed:    0.7s remaining:    0.0s\n",
      "[Parallel(n_jobs=1)]: Done   3 out of   3 | elapsed:    0.7s finished\n"
     ]
    }
   ],
   "source": [
    "model = LogisticRegression(solver = 'lbfgs' , max_iter = 1000 , random_state = 42)\n",
    "score = cross_val_score(model , X_train_transformed , y_train , cv = 3 , verbose = 4)\n",
    "print(max(score))"
   ]
  },
  {
   "cell_type": "code",
   "execution_count": 32,
   "id": "c576f517",
   "metadata": {},
   "outputs": [
    {
     "name": "stdout",
     "output_type": "stream",
     "text": [
      "Precession : 100.00%\n",
      "Recall :94.92%\n"
     ]
    }
   ],
   "source": [
    "from sklearn.metrics import precision_score , recall_score\n",
    "\n",
    "X_test_transformed = preprocess_pipeline.transform(X_test)\n",
    "\n",
    "model.fit(X_train_transformed , y_train)\n",
    "\n",
    "y_pred = model.predict(X_test_transformed)\n",
    "\n",
    "print(\"Precession : {:.2f}%\".format(100 *precision_score(y_test , y_pred)))\n",
    "print(\"Recall :{:.2f}%\".format(100 *recall_score(y_test , y_pred)))"
   ]
  }
 ],
 "metadata": {
  "kernelspec": {
   "display_name": "Python 3 (ipykernel)",
   "language": "python",
   "name": "python3"
  },
  "language_info": {
   "codemirror_mode": {
    "name": "ipython",
    "version": 3
   },
   "file_extension": ".py",
   "mimetype": "text/x-python",
   "name": "python",
   "nbconvert_exporter": "python",
   "pygments_lexer": "ipython3",
   "version": "3.8.8"
  }
 },
 "nbformat": 4,
 "nbformat_minor": 5
}
